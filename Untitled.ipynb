{
 "cells": [
  {
   "cell_type": "code",
   "execution_count": 1,
   "id": "933e5624",
   "metadata": {},
   "outputs": [],
   "source": [
    "anos = [ano for ano in range(2023, 2006, -1)]"
   ]
  },
  {
   "cell_type": "code",
   "execution_count": 2,
   "id": "e1d11c5d",
   "metadata": {},
   "outputs": [
    {
     "data": {
      "text/plain": [
       "[2023,\n",
       " 2022,\n",
       " 2021,\n",
       " 2020,\n",
       " 2019,\n",
       " 2018,\n",
       " 2017,\n",
       " 2016,\n",
       " 2015,\n",
       " 2014,\n",
       " 2013,\n",
       " 2012,\n",
       " 2011,\n",
       " 2010,\n",
       " 2009,\n",
       " 2008,\n",
       " 2007]"
      ]
     },
     "execution_count": 2,
     "metadata": {},
     "output_type": "execute_result"
    }
   ],
   "source": [
    "anos"
   ]
  },
  {
   "cell_type": "code",
   "execution_count": 7,
   "id": "859880bc",
   "metadata": {},
   "outputs": [
    {
     "data": {
      "text/plain": [
       "2"
      ]
     },
     "execution_count": 7,
     "metadata": {},
     "output_type": "execute_result"
    }
   ],
   "source": [
    "links_download = range(1,20)\n",
    "\n",
    "anos_to_download =[2015,2020]\n",
    "\n",
    "len([links_download[anos.index(ano)] for ano in anos_to_download])"
   ]
  },
  {
   "cell_type": "code",
   "execution_count": 8,
   "id": "2b6be8f4",
   "metadata": {},
   "outputs": [
    {
     "data": {
      "text/plain": [
       "0"
      ]
     },
     "execution_count": 8,
     "metadata": {},
     "output_type": "execute_result"
    }
   ],
   "source": [
    "len([])"
   ]
  },
  {
   "cell_type": "code",
   "execution_count": 12,
   "id": "16bfb1dc",
   "metadata": {},
   "outputs": [],
   "source": [
    "m = [2023, '2024']"
   ]
  },
  {
   "cell_type": "code",
   "execution_count": 13,
   "id": "8794cdb4",
   "metadata": {},
   "outputs": [
    {
     "data": {
      "text/plain": [
       "[2023, 2024]"
      ]
     },
     "execution_count": 13,
     "metadata": {},
     "output_type": "execute_result"
    }
   ],
   "source": [
    "[int(i) for i in m]"
   ]
  },
  {
   "cell_type": "code",
   "execution_count": null,
   "id": "8826922b",
   "metadata": {},
   "outputs": [],
   "source": []
  }
 ],
 "metadata": {
  "kernelspec": {
   "display_name": "Python 3 (ipykernel)",
   "language": "python",
   "name": "python3"
  },
  "language_info": {
   "codemirror_mode": {
    "name": "ipython",
    "version": 3
   },
   "file_extension": ".py",
   "mimetype": "text/x-python",
   "name": "python",
   "nbconvert_exporter": "python",
   "pygments_lexer": "ipython3",
   "version": "3.10.9"
  }
 },
 "nbformat": 4,
 "nbformat_minor": 5
}
